{
  "nbformat": 4,
  "nbformat_minor": 0,
  "metadata": {
    "colab": {
      "provenance": [],
      "authorship_tag": "ABX9TyOwpVFq2jVM1yoPwWpu+cte",
      "include_colab_link": true
    },
    "kernelspec": {
      "name": "python3",
      "display_name": "Python 3"
    },
    "language_info": {
      "name": "python"
    }
  },
  "cells": [
    {
      "cell_type": "markdown",
      "metadata": {
        "id": "view-in-github",
        "colab_type": "text"
      },
      "source": [
        "<a href=\"https://colab.research.google.com/github/Erushikesh/Data-mining/blob/main/LAB_3.ipynb\" target=\"_parent\"><img src=\"https://colab.research.google.com/assets/colab-badge.svg\" alt=\"Open In Colab\"/></a>"
      ]
    },
    {
      "cell_type": "code",
      "execution_count": 1,
      "metadata": {
        "colab": {
          "base_uri": "https://localhost:8080/"
        },
        "id": "mJTn6MjPl0js",
        "outputId": "1e90b9c1-2468-4772-b967-8e2c01e29904"
      },
      "outputs": [
        {
          "output_type": "stream",
          "name": "stdout",
          "text": [
            "  Category  Label_Encoded\n",
            "0        A              0\n",
            "1        B              1\n",
            "2        A              0\n",
            "3        C              2\n",
            "4        B              1\n",
            "5        C              2\n"
          ]
        }
      ],
      "source": [
        "import pandas as pd\n",
        "from sklearn.preprocessing import LabelEncoder\n",
        "\n",
        "data = {'Category': ['A', 'B', 'A', 'C', 'B', 'C']}\n",
        "df = pd.DataFrame(data)\n",
        "\n",
        "label_encoder = LabelEncoder()\n",
        "df['Label_Encoded'] = label_encoder.fit_transform(df['Category'])\n",
        "print(df)\n"
      ]
    },
    {
      "cell_type": "code",
      "source": [
        "df_one_hot = pd.get_dummies(df, columns=['Category'])\n",
        "print(df_one_hot)\n"
      ],
      "metadata": {
        "colab": {
          "base_uri": "https://localhost:8080/"
        },
        "id": "GM9kMgLdn5Xt",
        "outputId": "4c23ac93-028c-427c-a729-2359e5636dc9"
      },
      "execution_count": 2,
      "outputs": [
        {
          "output_type": "stream",
          "name": "stdout",
          "text": [
            "   Label_Encoded  Category_A  Category_B  Category_C\n",
            "0              0        True       False       False\n",
            "1              1       False        True       False\n",
            "2              0        True       False       False\n",
            "3              2       False       False        True\n",
            "4              1       False        True       False\n",
            "5              2       False       False        True\n"
          ]
        }
      ]
    },
    {
      "cell_type": "code",
      "source": [
        "from datetime import datetime\n",
        "\n",
        "data = {'Name': ['Alice', 'Bob', 'Charlie'],\n",
        "        'DOB': ['2000-05-15', '1995-08-22', '1988-11-03']}\n",
        "df = pd.DataFrame(data)\n",
        "\n",
        "df['DOB'] = pd.to_datetime(df['DOB'])\n",
        "\n",
        "df['Age'] = df['DOB'].apply(lambda x: datetime.now().year - x.year)\n",
        "print(df)\n"
      ],
      "metadata": {
        "colab": {
          "base_uri": "https://localhost:8080/"
        },
        "id": "AH-l-mwzn7X1",
        "outputId": "0d817fd9-4982-41f1-d5c8-8891f7a7d03f"
      },
      "execution_count": 3,
      "outputs": [
        {
          "output_type": "stream",
          "name": "stdout",
          "text": [
            "      Name        DOB  Age\n",
            "0    Alice 2000-05-15   25\n",
            "1      Bob 1995-08-22   30\n",
            "2  Charlie 1988-11-03   37\n"
          ]
        }
      ]
    },
    {
      "cell_type": "code",
      "source": [
        "data = {'Category': ['A', 'B', 'A', 'C', 'B', 'C'],\n",
        "        'Value': [10, 15, 20, 25, 30, 35]}\n",
        "df = pd.DataFrame(data)\n",
        "\n",
        "grouped_df = df.groupby('Category').agg({'Value': 'sum'})\n",
        "print(grouped_df)\n"
      ],
      "metadata": {
        "colab": {
          "base_uri": "https://localhost:8080/"
        },
        "id": "SFJm8KY1n-DS",
        "outputId": "b13523e4-3825-4b6d-8ce1-38eda90ae149"
      },
      "execution_count": 4,
      "outputs": [
        {
          "output_type": "stream",
          "name": "stdout",
          "text": [
            "          Value\n",
            "Category       \n",
            "A            30\n",
            "B            45\n",
            "C            60\n"
          ]
        }
      ]
    },
    {
      "cell_type": "code",
      "source": [
        "pivot_df = df.pivot_table(index='Category', values='Value', aggfunc='sum')\n",
        "print(pivot_df)\n"
      ],
      "metadata": {
        "colab": {
          "base_uri": "https://localhost:8080/"
        },
        "id": "swZ5cnoRoAAe",
        "outputId": "40094aa1-fd1f-457c-be3c-9c4ecb3dfe4d"
      },
      "execution_count": 5,
      "outputs": [
        {
          "output_type": "stream",
          "name": "stdout",
          "text": [
            "          Value\n",
            "Category       \n",
            "A            30\n",
            "B            45\n",
            "C            60\n"
          ]
        }
      ]
    }
  ]
}